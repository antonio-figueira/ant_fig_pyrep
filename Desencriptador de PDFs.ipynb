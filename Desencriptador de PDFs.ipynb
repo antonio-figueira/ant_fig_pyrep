{
 "cells": [
  {
   "cell_type": "code",
   "execution_count": null,
   "metadata": {},
   "outputs": [],
   "source": [
    "# programa de desencriptação de PDF protegidos por parlavra-passe por tentativa e erro\n",
    "# DISCLAIMER - desencriptar PDFs ou qualquer outro tipo de informação protegida constitui crime informático punível por lei\n",
    "# os ficheiros PDF usados pelo autor do programa são da sua autoria ou de pass_word conhecida pelo mesmo\n",
    "# este programa é só uma \"brincadeira\" para testar a capacidade de leitura de PDF pelo módulo pikepdf\n",
    "# este programa ainda está em optimização\n",
    "\n",
    "# importar o módulo de leitura e gestão de documentos pdf, pikepdf [1] e numpy\n",
    "import pikepdf\n",
    "import numpy as np\n",
    "\n",
    "# definir função de desencriptação (pdf_decrypt)\n",
    "def pdf_decrypt(file_name, max_key_number): # max_key_number é o número máximo de caracteres que a pass poderá ter (quanto maior for, mais tempo demora o programa a correr)\n",
    "    \n",
    "    # textos para o programa\n",
    "    intro = \"\"\"\\033[1m\\nEste programa desencripta/abre PDFs protegidos por palavras-passe em algumas horas. Caso o algoritmo falhe\n",
    "considere a possibilidade da palavra-passe conter elementos de texto de tipo especial ou do tipo não-ASCII \n",
    "(como, por exemplo, caractéres de escrita oriental, sinais de pontuação, entre outros).\\033[0m\n",
    "\n",
    "-- António Figueira (2020) \\n\"\"\"\n",
    "    print(intro)\n",
    "    output_str = \"O programa terminou a busca por palavras-passe, tendo identificado o seguinte resultado:\"\n",
    "\n",
    "    # caractéres que podem ser utilizados na pass-word (ASCII)\n",
    "    keys = [\"\", \" \", \"0\", \"1\", \"2\", \"3\", \"4\", \"5\", \"6\", \"7\", \"8\", \"9\",\n",
    "            \"a\", \"b\", \"c\", \"d\", \"e\", \"f\", \"g\", \"h\", \"i\", \"j\", \"k\", \"l\",\n",
    "            \"m\", \"n\", \"o\", \"p\", \"q\", \"r\", \"s\", \"t\", \"u\", \"v\", \"w\", \"x\",\n",
    "            \"y\", \"z\", \"A\", \"B\", \"C\", \"D\", \"E\", \"_\", \"F\", \"G\", \"H\", \"I\",\n",
    "            \"J\", \"K\", \"L\", \"M\", \"N\", \"O\", \"P\", \"Q\", \"R\", \"S\", \"T\", \"U\",\n",
    "            \"V\", \"W\", \"X\", \"Y\", \"Z\", \"ç\", \"Ç\", \"-\"]\n",
    "        \n",
    "    # main loop do programa, no qual as palavras-passe serão testadas com combinações de keys\n",
    "    run = True\n",
    "    while run:            \n",
    "        try:\n",
    "            pass_query = np.random.choice(keys, size = max_key_number)\n",
    "            pass_query_str = \"\".join(pass_query)\n",
    "            pikepdf.Pdf.open(file_name, password = pass_query_str)\n",
    "            print(output_str, pass_query_str)\n",
    "            run = False\n",
    "        except pikepdf.PasswordError:\n",
    "            continue \n",
    "                \n",
    "# aplicar a função\n",
    "file_name = \"simples.pdf\"\n",
    "pdf_decrypt(file_name, 4)\n",
    "\n",
    "# by António Figueira, 2020\n",
    "# refs: [1] - James R. Barlow, pikepdf Python library (Release 1.13.0)"
   ]
  }
 ],
 "metadata": {
  "kernelspec": {
   "display_name": "Python 3",
   "language": "python",
   "name": "python3"
  },
  "language_info": {
   "codemirror_mode": {
    "name": "ipython",
    "version": 3
   },
   "file_extension": ".py",
   "mimetype": "text/x-python",
   "name": "python",
   "nbconvert_exporter": "python",
   "pygments_lexer": "ipython3",
   "version": "3.7.6"
  }
 },
 "nbformat": 4,
 "nbformat_minor": 4
}
