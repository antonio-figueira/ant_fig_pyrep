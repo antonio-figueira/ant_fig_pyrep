{
 "cells": [
  {
   "cell_type": "code",
   "execution_count": 2,
   "metadata": {
    "scrolled": false
   },
   "outputs": [],
   "source": [
    "# esta função extrai as tags ou palavras-chave de qualquer vídeo público do youtube a partir do seu link\n",
    "\n",
    "import urllib.request # módulo de leitura/manipulação de links/urls e conteúdos HTML\n",
    "\n",
    "def tag_extract(url):\n",
    "    with urllib.request.urlopen(url) as html: # abre o url\n",
    "        read_bytes = html.read() # lê o url\n",
    "    read_text = read_bytes.decode() # descodifica o url lido para formato de texto (HTML)\n",
    "    tag_lines = []\n",
    "    tags = []\n",
    "    lines = read_text.split(\"\\n\") # separa o texto do HTML por linhas\n",
    "    for line in lines:\n",
    "        if '<meta property=\"og:video:tag\"' in line: # linhas relativas às \"tags\" começam todas com este formato\n",
    "            tag_lines.append(line)\n",
    "    for tag_line in tag_lines:\n",
    "        tags.append(tag_line[47:-2]) # slice de cada linha com tag de modo a mostrar apenas o nome da tag\n",
    "    print(\"\\n\\033[1mTags identificadas neste vídeo: \\033[0m\\n\")\n",
    "    for tag in tags:\n",
    "        print(\"-->\", tag)\n",
    "    return \"\\nForam encontradas \" + str(len(tags)) + \" tags.\"\n",
    "\n",
    "# fim, António Figueira (2020)"
   ]
  },
  {
   "cell_type": "code",
   "execution_count": 3,
   "metadata": {
    "scrolled": true
   },
   "outputs": [
    {
     "name": "stdout",
     "output_type": "stream",
     "text": [
      "\n",
      "Link do vídeo: https://www.youtube.com/watch?v=FXQ33kxB1iQ&t=967s\n",
      "\n",
      "\u001b[1mTags identificadas neste vídeo: \u001b[0m\n",
      "\n",
      "--> mattytingles\n",
      "--> asmr\n",
      "--> the game store\n",
      "--> the gaming store\n",
      "--> gamer\n",
      "--> streamer\n",
      "--> stream\n",
      "--> live\n",
      "--> ps4\n",
      "--> xbox\n",
      "--> playstation\n",
      "--> sony\n",
      "--> camera\n",
      "--> relaxing\n",
      "--> relaxing asmr\n",
      "--> game store matty\n",
      "--> gfuel\n",
      "--> sponsor\n",
      "--> recommended\n",
      "--> subscribe\n",
      "--> new\n",
      "--> like\n",
      "--> amazing\n",
      "--> sounds\n",
      "\n",
      "Foram encontradas 24 tags.\n"
     ]
    }
   ],
   "source": [
    "# aplicar a função\n",
    "inp = input(\"\\nLink do vídeo: \")\n",
    "print(tag_extract(inp))"
   ]
  },
  {
   "cell_type": "code",
   "execution_count": 4,
   "metadata": {},
   "outputs": [
    {
     "name": "stdout",
     "output_type": "stream",
     "text": [
      "\n",
      "Link do vídeo: https://www.youtube.com/watch?v=FXQ33kxB1iQ&t=967s\n",
      "\n",
      "\u001b[1mTags identificadas neste vídeo: \u001b[0m\n",
      "\n",
      "--> mattytingles\n",
      "--> asmr\n",
      "--> the game store\n",
      "--> the gaming store\n",
      "--> gamer\n",
      "--> streamer\n",
      "--> stream\n",
      "--> live\n",
      "--> ps4\n",
      "--> xbox\n",
      "--> playstation\n",
      "--> sony\n",
      "--> camera\n",
      "--> relaxing\n",
      "--> relaxing asmr\n",
      "--> game store matty\n",
      "--> gfuel\n",
      "--> sponsor\n",
      "--> recommended\n",
      "--> subscribe\n",
      "--> new\n",
      "--> like\n",
      "--> amazing\n",
      "--> sounds\n",
      "\n",
      "Foram encontradas 24 tags.\n"
     ]
    }
   ],
   "source": [
    "# programa idêntico mas usando o módulo \"requests\"\n",
    "\n",
    "import requests\n",
    "\n",
    "def tag_extract2(url2):\n",
    "    html2 = requests.get(url2) # obtém o conteúdo HTML do url\n",
    "    html2_text = html2.text # permite obter o HTML como texto\n",
    "    tag_lines2 = []\n",
    "    tags2 = []\n",
    "    lines2 = html2_text.split(\"\\n\") # separa o texto do HTML por linhas\n",
    "    for line2 in lines2:\n",
    "        if '<meta property=\"og:video:tag\"' in line2: # linhas relativas às \"tags\" começam todas com este formato\n",
    "            tag_lines2.append(line2)\n",
    "    for tag_line2 in tag_lines2:\n",
    "        tags2.append(tag_line2[47:-2]) # slice de cada linha com tag de modo a mostrar apenas o nome da tag\n",
    "    print(\"\\n\\033[1mTags identificadas neste vídeo: \\033[0m\\n\")\n",
    "    for tag2 in tags2:\n",
    "        print(\"-->\", tag2)\n",
    "    return \"\\nForam encontradas \" + str(len(tags2)) + \" tags.\"\n",
    "\n",
    "# aplicar a função\n",
    "inp2 = input(\"\\nLink do vídeo: \")\n",
    "print(tag_extract2(inp2))"
    }
   ],
   "source": [
    "import requests\n",
    "\n",
    "output = requests.get(\"https://www.youtube.com/watch?v=WiyIhiYLD7M\").text\n",
    "print(output)"
   ]
  },
  {
   "cell_type": "code",
   "execution_count": null,
   "metadata": {},
   "outputs": [],
   "source": []
  }
 ],
 "metadata": {
  "kernelspec": {
   "display_name": "Python 3",
   "language": "python",
   "name": "python3"
  },
  "language_info": {
   "codemirror_mode": {
    "name": "ipython",
    "version": 3
   },
   "file_extension": ".py",
   "mimetype": "text/x-python",
   "name": "python",
   "nbconvert_exporter": "python",
   "pygments_lexer": "ipython3",
   "version": "3.7.6"
  }
 },
 "nbformat": 4,
 "nbformat_minor": 2
}
